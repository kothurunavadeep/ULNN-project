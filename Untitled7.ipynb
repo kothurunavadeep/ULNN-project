{
 "cells": [
  {
   "cell_type": "code",
   "execution_count": 3,
   "id": "97ee959b-29d6-4760-be5c-c43f82c53b4d",
   "metadata": {},
   "outputs": [],
   "source": [
    "import pandas as pd\n",
    "import numpy as np\n",
    "import matplotlib.pyplot as plt\n",
    "from sklearn.preprocessing import LabelEncoder, MinMaxScaler\n",
    "from sklearn.cluster import KMeans\n",
    "from sklearn.preprocessing import StandardScaler\n",
    "import warnings\n",
    "warnings.filterwarnings(\"ignore\")"
   ]
  },
  {
   "cell_type": "code",
   "execution_count": 4,
   "id": "f337015b-5fd2-4096-9713-63da60945e53",
   "metadata": {},
   "outputs": [],
   "source": [
    "farmers_df = pd.read_csv(\"farmers_dataset.csv\")\n",
    "vendors_df = pd.read_csv(\"vendors_extended.csv\")"
   ]
  },
  {
   "cell_type": "code",
   "execution_count": 5,
   "id": "c5768769-7984-4ca1-bb28-c6eea8489d2a",
   "metadata": {},
   "outputs": [
    {
     "data": {
      "text/html": [
       "<div>\n",
       "<style scoped>\n",
       "    .dataframe tbody tr th:only-of-type {\n",
       "        vertical-align: middle;\n",
       "    }\n",
       "\n",
       "    .dataframe tbody tr th {\n",
       "        vertical-align: top;\n",
       "    }\n",
       "\n",
       "    .dataframe thead th {\n",
       "        text-align: right;\n",
       "    }\n",
       "</style>\n",
       "<table border=\"1\" class=\"dataframe\">\n",
       "  <thead>\n",
       "    <tr style=\"text-align: right;\">\n",
       "      <th></th>\n",
       "      <th>farmer_id</th>\n",
       "      <th>name</th>\n",
       "      <th>location</th>\n",
       "      <th>product</th>\n",
       "    </tr>\n",
       "  </thead>\n",
       "  <tbody>\n",
       "    <tr>\n",
       "      <th>0</th>\n",
       "      <td>F7566</td>\n",
       "      <td>Amit</td>\n",
       "      <td>Karnataka</td>\n",
       "      <td>Rice</td>\n",
       "    </tr>\n",
       "    <tr>\n",
       "      <th>1</th>\n",
       "      <td>F6988</td>\n",
       "      <td>Rajesh</td>\n",
       "      <td>Karnataka</td>\n",
       "      <td>Maize</td>\n",
       "    </tr>\n",
       "    <tr>\n",
       "      <th>2</th>\n",
       "      <td>F2593</td>\n",
       "      <td>Amit</td>\n",
       "      <td>UP</td>\n",
       "      <td>Wheat</td>\n",
       "    </tr>\n",
       "    <tr>\n",
       "      <th>3</th>\n",
       "      <td>F1888</td>\n",
       "      <td>Manoj</td>\n",
       "      <td>UP</td>\n",
       "      <td>Potato</td>\n",
       "    </tr>\n",
       "    <tr>\n",
       "      <th>4</th>\n",
       "      <td>F9899</td>\n",
       "      <td>Manoj</td>\n",
       "      <td>Karnataka</td>\n",
       "      <td>Soybean</td>\n",
       "    </tr>\n",
       "    <tr>\n",
       "      <th>...</th>\n",
       "      <td>...</td>\n",
       "      <td>...</td>\n",
       "      <td>...</td>\n",
       "      <td>...</td>\n",
       "    </tr>\n",
       "    <tr>\n",
       "      <th>4260</th>\n",
       "      <td>F8763</td>\n",
       "      <td>Sunil</td>\n",
       "      <td>Unknown</td>\n",
       "      <td>Rice</td>\n",
       "    </tr>\n",
       "    <tr>\n",
       "      <th>4261</th>\n",
       "      <td>F7307</td>\n",
       "      <td>Ravi</td>\n",
       "      <td>Punjab</td>\n",
       "      <td>Potato</td>\n",
       "    </tr>\n",
       "    <tr>\n",
       "      <th>4262</th>\n",
       "      <td>F7848</td>\n",
       "      <td>Sunil</td>\n",
       "      <td>Punjab</td>\n",
       "      <td>Wheat</td>\n",
       "    </tr>\n",
       "    <tr>\n",
       "      <th>4263</th>\n",
       "      <td>F4765</td>\n",
       "      <td>Ravi</td>\n",
       "      <td>Punjab</td>\n",
       "      <td>Potato</td>\n",
       "    </tr>\n",
       "    <tr>\n",
       "      <th>4264</th>\n",
       "      <td>F4859</td>\n",
       "      <td>Rajesh</td>\n",
       "      <td>Maharashtrax</td>\n",
       "      <td>Soybean</td>\n",
       "    </tr>\n",
       "  </tbody>\n",
       "</table>\n",
       "<p>4265 rows × 4 columns</p>\n",
       "</div>"
      ],
      "text/plain": [
       "     farmer_id    name      location  product\n",
       "0        F7566    Amit     Karnataka     Rice\n",
       "1        F6988  Rajesh     Karnataka    Maize\n",
       "2        F2593    Amit            UP    Wheat\n",
       "3        F1888   Manoj            UP   Potato\n",
       "4        F9899   Manoj     Karnataka  Soybean\n",
       "...        ...     ...           ...      ...\n",
       "4260     F8763   Sunil       Unknown     Rice\n",
       "4261     F7307    Ravi        Punjab   Potato\n",
       "4262     F7848   Sunil        Punjab    Wheat\n",
       "4263     F4765    Ravi        Punjab   Potato\n",
       "4264     F4859  Rajesh  Maharashtrax  Soybean\n",
       "\n",
       "[4265 rows x 4 columns]"
      ]
     },
     "execution_count": 5,
     "metadata": {},
     "output_type": "execute_result"
    }
   ],
   "source": [
    "farmers_df"
   ]
  },
  {
   "cell_type": "code",
   "execution_count": 6,
   "id": "9a5bae27-25c6-4946-978c-bb69e8e4d575",
   "metadata": {},
   "outputs": [
    {
     "data": {
      "text/html": [
       "<div>\n",
       "<style scoped>\n",
       "    .dataframe tbody tr th:only-of-type {\n",
       "        vertical-align: middle;\n",
       "    }\n",
       "\n",
       "    .dataframe tbody tr th {\n",
       "        vertical-align: top;\n",
       "    }\n",
       "\n",
       "    .dataframe thead th {\n",
       "        text-align: right;\n",
       "    }\n",
       "</style>\n",
       "<table border=\"1\" class=\"dataframe\">\n",
       "  <thead>\n",
       "    <tr style=\"text-align: right;\">\n",
       "      <th></th>\n",
       "      <th>vendor_id</th>\n",
       "      <th>name</th>\n",
       "      <th>location</th>\n",
       "      <th>product</th>\n",
       "      <th>reliability_score</th>\n",
       "      <th>avg_price_quintal</th>\n",
       "    </tr>\n",
       "  </thead>\n",
       "  <tbody>\n",
       "    <tr>\n",
       "      <th>0</th>\n",
       "      <td>V9880</td>\n",
       "      <td>Krishna Traders</td>\n",
       "      <td>Punjab</td>\n",
       "      <td>Maize</td>\n",
       "      <td>3.90</td>\n",
       "      <td>1000.00</td>\n",
       "    </tr>\n",
       "    <tr>\n",
       "      <th>1</th>\n",
       "      <td>V2142</td>\n",
       "      <td>AgroSupply</td>\n",
       "      <td>UP</td>\n",
       "      <td>Rice</td>\n",
       "      <td>3.90</td>\n",
       "      <td>1400.00</td>\n",
       "    </tr>\n",
       "    <tr>\n",
       "      <th>2</th>\n",
       "      <td>V8654</td>\n",
       "      <td>Unknown</td>\n",
       "      <td>Karnataka</td>\n",
       "      <td>Rice</td>\n",
       "      <td>4.00</td>\n",
       "      <td>1200.00</td>\n",
       "    </tr>\n",
       "    <tr>\n",
       "      <th>3</th>\n",
       "      <td>V3931</td>\n",
       "      <td>FarmDirect</td>\n",
       "      <td>UP</td>\n",
       "      <td>Potato</td>\n",
       "      <td>4.80</td>\n",
       "      <td>1100.00</td>\n",
       "    </tr>\n",
       "    <tr>\n",
       "      <th>4</th>\n",
       "      <td>V1564</td>\n",
       "      <td>AgroSupply</td>\n",
       "      <td>Karnataka</td>\n",
       "      <td>Soybean</td>\n",
       "      <td>2.50</td>\n",
       "      <td>1000.00</td>\n",
       "    </tr>\n",
       "    <tr>\n",
       "      <th>...</th>\n",
       "      <td>...</td>\n",
       "      <td>...</td>\n",
       "      <td>...</td>\n",
       "      <td>...</td>\n",
       "      <td>...</td>\n",
       "      <td>...</td>\n",
       "    </tr>\n",
       "    <tr>\n",
       "      <th>4820</th>\n",
       "      <td>V3550</td>\n",
       "      <td>GreenHarvest</td>\n",
       "      <td>Unknown</td>\n",
       "      <td>Soybean</td>\n",
       "      <td>4.08</td>\n",
       "      <td>1039.59</td>\n",
       "    </tr>\n",
       "    <tr>\n",
       "      <th>4821</th>\n",
       "      <td>V9851</td>\n",
       "      <td>GreenHarvest</td>\n",
       "      <td>Maharashtra</td>\n",
       "      <td>Wheat</td>\n",
       "      <td>2.72</td>\n",
       "      <td>1558.25</td>\n",
       "    </tr>\n",
       "    <tr>\n",
       "      <th>4822</th>\n",
       "      <td>V2932</td>\n",
       "      <td>GreenHarvest</td>\n",
       "      <td>Haryana</td>\n",
       "      <td>Soybean</td>\n",
       "      <td>3.58</td>\n",
       "      <td>1071.51</td>\n",
       "    </tr>\n",
       "    <tr>\n",
       "      <th>4823</th>\n",
       "      <td>V9465</td>\n",
       "      <td>FarmDirect</td>\n",
       "      <td>Karnataka</td>\n",
       "      <td>Soybean</td>\n",
       "      <td>3.62</td>\n",
       "      <td>1350.28</td>\n",
       "    </tr>\n",
       "    <tr>\n",
       "      <th>4824</th>\n",
       "      <td>V4561</td>\n",
       "      <td>AgroSupply</td>\n",
       "      <td>Maharashtrax</td>\n",
       "      <td>Potatox</td>\n",
       "      <td>5.09</td>\n",
       "      <td>1164.46</td>\n",
       "    </tr>\n",
       "  </tbody>\n",
       "</table>\n",
       "<p>4825 rows × 6 columns</p>\n",
       "</div>"
      ],
      "text/plain": [
       "     vendor_id             name      location  product  reliability_score  \\\n",
       "0        V9880  Krishna Traders        Punjab    Maize               3.90   \n",
       "1        V2142       AgroSupply            UP     Rice               3.90   \n",
       "2        V8654          Unknown     Karnataka     Rice               4.00   \n",
       "3        V3931       FarmDirect            UP   Potato               4.80   \n",
       "4        V1564       AgroSupply     Karnataka  Soybean               2.50   \n",
       "...        ...              ...           ...      ...                ...   \n",
       "4820     V3550     GreenHarvest       Unknown  Soybean               4.08   \n",
       "4821     V9851     GreenHarvest   Maharashtra    Wheat               2.72   \n",
       "4822     V2932     GreenHarvest       Haryana  Soybean               3.58   \n",
       "4823     V9465       FarmDirect     Karnataka  Soybean               3.62   \n",
       "4824     V4561       AgroSupply  Maharashtrax  Potatox               5.09   \n",
       "\n",
       "      avg_price_quintal  \n",
       "0               1000.00  \n",
       "1               1400.00  \n",
       "2               1200.00  \n",
       "3               1100.00  \n",
       "4               1000.00  \n",
       "...                 ...  \n",
       "4820            1039.59  \n",
       "4821            1558.25  \n",
       "4822            1071.51  \n",
       "4823            1350.28  \n",
       "4824            1164.46  \n",
       "\n",
       "[4825 rows x 6 columns]"
      ]
     },
     "execution_count": 6,
     "metadata": {},
     "output_type": "execute_result"
    }
   ],
   "source": [
    "vendors_df"
   ]
  },
  {
   "cell_type": "code",
   "execution_count": 7,
   "id": "808fab4b-b34e-48e2-81e9-cca1af46c299",
   "metadata": {},
   "outputs": [
    {
     "data": {
      "text/plain": [
       "farmer_id    0\n",
       "name         0\n",
       "location     0\n",
       "product      0\n",
       "dtype: int64"
      ]
     },
     "execution_count": 7,
     "metadata": {},
     "output_type": "execute_result"
    }
   ],
   "source": [
    "farmers_df.isnull().sum()"
   ]
  },
  {
   "cell_type": "code",
   "execution_count": 8,
   "id": "d3a99c1d-42a4-4294-ac75-8bf6fa39b024",
   "metadata": {},
   "outputs": [
    {
     "data": {
      "text/plain": [
       "vendor_id            0\n",
       "name                 0\n",
       "location             0\n",
       "product              0\n",
       "reliability_score    0\n",
       "avg_price_quintal    0\n",
       "dtype: int64"
      ]
     },
     "execution_count": 8,
     "metadata": {},
     "output_type": "execute_result"
    }
   ],
   "source": [
    "vendors_df.isnull().sum()"
   ]
  },
  {
   "cell_type": "code",
   "execution_count": 9,
   "id": "e66826c4-2b65-40d2-8a8c-4ff415d8cafc",
   "metadata": {},
   "outputs": [],
   "source": [
    "# For farmers_df\n",
    "farmers_df = farmers_df.drop_duplicates(subset=[\"name\", \"product\"], keep='first').reset_index(drop=True)\n",
    "\n",
    "# For vendors_df\n",
    "vendors_df = vendors_df.drop_duplicates(subset=[\"name\", \"product\"], keep='first').reset_index(drop=True)\n"
   ]
  },
  {
   "cell_type": "code",
   "execution_count": 10,
   "id": "82ca1d38-5be3-43f3-87b4-3c7faeb28b5c",
   "metadata": {},
   "outputs": [],
   "source": [
    "farmers_df.drop_duplicates(inplace=True)\n",
    "vendors_df.drop_duplicates(inplace=True)"
   ]
  },
  {
   "cell_type": "code",
   "execution_count": 11,
   "id": "6240e2e6-6939-4c0b-9a22-86b62613753c",
   "metadata": {},
   "outputs": [
    {
     "data": {
      "text/html": [
       "<div>\n",
       "<style scoped>\n",
       "    .dataframe tbody tr th:only-of-type {\n",
       "        vertical-align: middle;\n",
       "    }\n",
       "\n",
       "    .dataframe tbody tr th {\n",
       "        vertical-align: top;\n",
       "    }\n",
       "\n",
       "    .dataframe thead th {\n",
       "        text-align: right;\n",
       "    }\n",
       "</style>\n",
       "<table border=\"1\" class=\"dataframe\">\n",
       "  <thead>\n",
       "    <tr style=\"text-align: right;\">\n",
       "      <th></th>\n",
       "      <th>farmer_id</th>\n",
       "      <th>name</th>\n",
       "      <th>location</th>\n",
       "      <th>product</th>\n",
       "    </tr>\n",
       "  </thead>\n",
       "  <tbody>\n",
       "    <tr>\n",
       "      <th>0</th>\n",
       "      <td>F7566</td>\n",
       "      <td>Amit</td>\n",
       "      <td>Karnataka</td>\n",
       "      <td>Rice</td>\n",
       "    </tr>\n",
       "    <tr>\n",
       "      <th>1</th>\n",
       "      <td>F6988</td>\n",
       "      <td>Rajesh</td>\n",
       "      <td>Karnataka</td>\n",
       "      <td>Maize</td>\n",
       "    </tr>\n",
       "    <tr>\n",
       "      <th>2</th>\n",
       "      <td>F2593</td>\n",
       "      <td>Amit</td>\n",
       "      <td>UP</td>\n",
       "      <td>Wheat</td>\n",
       "    </tr>\n",
       "    <tr>\n",
       "      <th>3</th>\n",
       "      <td>F1888</td>\n",
       "      <td>Manoj</td>\n",
       "      <td>UP</td>\n",
       "      <td>Potato</td>\n",
       "    </tr>\n",
       "    <tr>\n",
       "      <th>4</th>\n",
       "      <td>F9899</td>\n",
       "      <td>Manoj</td>\n",
       "      <td>Karnataka</td>\n",
       "      <td>Soybean</td>\n",
       "    </tr>\n",
       "    <tr>\n",
       "      <th>...</th>\n",
       "      <td>...</td>\n",
       "      <td>...</td>\n",
       "      <td>...</td>\n",
       "      <td>...</td>\n",
       "    </tr>\n",
       "    <tr>\n",
       "      <th>92</th>\n",
       "      <td>F7434</td>\n",
       "      <td>Amitx</td>\n",
       "      <td>Maharashtra</td>\n",
       "      <td>Potato</td>\n",
       "    </tr>\n",
       "    <tr>\n",
       "      <th>93</th>\n",
       "      <td>F7360</td>\n",
       "      <td>Unknown</td>\n",
       "      <td>Karnataka</td>\n",
       "      <td>Wheatx</td>\n",
       "    </tr>\n",
       "    <tr>\n",
       "      <th>94</th>\n",
       "      <td>F8110</td>\n",
       "      <td>Amitx</td>\n",
       "      <td>Haryana</td>\n",
       "      <td>Soybeanx</td>\n",
       "    </tr>\n",
       "    <tr>\n",
       "      <th>95</th>\n",
       "      <td>F2406</td>\n",
       "      <td>Unknownx</td>\n",
       "      <td>Punjab</td>\n",
       "      <td>Potatox</td>\n",
       "    </tr>\n",
       "    <tr>\n",
       "      <th>96</th>\n",
       "      <td>F5531</td>\n",
       "      <td>Amit</td>\n",
       "      <td>Maharashtra</td>\n",
       "      <td>Ricex</td>\n",
       "    </tr>\n",
       "  </tbody>\n",
       "</table>\n",
       "<p>97 rows × 4 columns</p>\n",
       "</div>"
      ],
      "text/plain": [
       "   farmer_id      name     location   product\n",
       "0      F7566      Amit    Karnataka      Rice\n",
       "1      F6988    Rajesh    Karnataka     Maize\n",
       "2      F2593      Amit           UP     Wheat\n",
       "3      F1888     Manoj           UP    Potato\n",
       "4      F9899     Manoj    Karnataka   Soybean\n",
       "..       ...       ...          ...       ...\n",
       "92     F7434     Amitx  Maharashtra    Potato\n",
       "93     F7360   Unknown    Karnataka    Wheatx\n",
       "94     F8110     Amitx      Haryana  Soybeanx\n",
       "95     F2406  Unknownx       Punjab   Potatox\n",
       "96     F5531      Amit  Maharashtra     Ricex\n",
       "\n",
       "[97 rows x 4 columns]"
      ]
     },
     "execution_count": 11,
     "metadata": {},
     "output_type": "execute_result"
    }
   ],
   "source": [
    "farmers_df"
   ]
  },
  {
   "cell_type": "code",
   "execution_count": 12,
   "id": "87333085-3852-490a-bd57-e140e0c972e2",
   "metadata": {},
   "outputs": [],
   "source": [
    "farmers_df.dropna(subset=[\"location\", \"product\"], inplace=True)\n",
    "vendors_df.dropna(subset=[\"location\", \"product\"], inplace=True)"
   ]
  },
  {
   "cell_type": "code",
   "execution_count": 13,
   "id": "aeaab8bc-d1c7-447c-84fa-69f68fab625d",
   "metadata": {},
   "outputs": [],
   "source": [
    "farmers_df[\"location\"] = farmers_df[\"location\"].str.strip()\n",
    "farmers_df[\"product\"] = farmers_df[\"product\"].str.strip()\n",
    "vendors_df[\"location\"] = vendors_df[\"location\"].str.strip()\n",
    "vendors_df[\"product\"] = vendors_df[\"product\"].str.strip()"
   ]
  },
  {
   "cell_type": "code",
   "execution_count": 14,
   "id": "63b877fb-be04-4b4c-82db-ee9e64c24193",
   "metadata": {},
   "outputs": [],
   "source": [
    "label_encoder_location = LabelEncoder()\n",
    "label_encoder_product = LabelEncoder()"
   ]
  },
  {
   "cell_type": "code",
   "execution_count": 15,
   "id": "85d864b8-3b07-47c1-b046-bcba382a6d83",
   "metadata": {},
   "outputs": [],
   "source": [
    "farmers_df[\"location_encoded\"] = label_encoder_location.fit_transform(farmers_df[\"location\"])\n",
    "farmers_df[\"product_encoded\"] = label_encoder_product.fit_transform(farmers_df[\"product\"])"
   ]
  },
  {
   "cell_type": "code",
   "execution_count": 16,
   "id": "c7800056-5d09-49cd-8f77-962f66d5abce",
   "metadata": {},
   "outputs": [],
   "source": [
    "vendors_df[\"location_encoded\"] = label_encoder_location.fit_transform(vendors_df[\"location\"])\n",
    "vendors_df[\"product_encoded\"] = label_encoder_product.fit_transform(vendors_df[\"product\"])"
   ]
  },
  {
   "cell_type": "code",
   "execution_count": 17,
   "id": "3f1dfff4-55b2-47aa-b302-70a7e293c544",
   "metadata": {},
   "outputs": [],
   "source": [
    "farmer_features = farmers_df[[\"location_encoded\", \"product_encoded\"]]\n",
    "vendor_features = vendors_df[[\"location_encoded\", \"product_encoded\", \"reliability_score\", \"avg_price_quintal\"]]"
   ]
  },
  {
   "cell_type": "code",
   "execution_count": 18,
   "id": "0eb897d0-a6d0-47ff-a4e0-0c279b58194d",
   "metadata": {},
   "outputs": [],
   "source": [
    "scaler = StandardScaler()\n",
    "vendors_df[[\"reliability_score\", \"avg_price_quintal\"]] = scaler.fit_transform(vendors_df[[\"reliability_score\", \"avg_price_quintal\"]])\n",
    "\n",
    "vendor_features = vendors_df[[\"location_encoded\", \"product_encoded\", \"reliability_score\", \"avg_price_quintal\"]]"
   ]
  },
  {
   "cell_type": "code",
   "execution_count": 19,
   "id": "29eeaded-05a0-43ef-a802-31a57a5acb6c",
   "metadata": {},
   "outputs": [
    {
     "data": {
      "image/png": "[encoded data removed]",
      "text/plain": [
       "<Figure size 1200x500 with 1 Axes>"
      ]
     },
     "metadata": {},
     "output_type": "display_data"
    }
   ],
   "source": [
    "# Elbow method for farmers\n",
    "wcss_farmers = []\n",
    "for i in range(1, 11):\n",
    "    kmeans = KMeans(n_clusters=i, random_state=42, n_init=\"auto\")\n",
    "    kmeans.fit(farmer_features)\n",
    "    wcss_farmers.append(kmeans.inertia_)\n",
    "\n",
    "plt.figure(figsize=(12, 5))\n",
    "plt.plot(range(1, 11), wcss_farmers, marker='o')\n",
    "plt.title('Elbow Method for Farmers')\n",
    "plt.xlabel('Number of Clusters')\n",
    "plt.ylabel('WCSS')\n",
    "plt.show()"
   ]
  },
  {
   "cell_type": "code",
   "execution_count": 20,
   "id": "4e97b273-3914-4286-a92c-968c5ad917f5",
   "metadata": {},
   "outputs": [
    {
     "data": {
      "image/png": "[encoded data removed]",
      "text/plain": [
       "<Figure size 1200x500 with 1 Axes>"
      ]
     },
     "metadata": {},
     "output_type": "display_data"
    }
   ],
   "source": [
    "# Elbow method for vendors\n",
    "wcss_vendors = []\n",
    "for i in range(1, 11):\n",
    "    kmeans = KMeans(n_clusters=i, random_state=42, n_init=\"auto\")\n",
    "    kmeans.fit(vendor_features)\n",
    "    wcss_vendors.append(kmeans.inertia_)\n",
    "\n",
    "plt.figure(figsize=(12, 5))\n",
    "plt.plot(range(1, 11), wcss_vendors, marker='o')\n",
    "plt.title('Elbow Method for Vendors')\n",
    "plt.xlabel('Number of Clusters')\n",
    "plt.ylabel('WCSS')\n",
    "plt.show()"
   ]
  },
  {
   "cell_type": "code",
   "execution_count": 21,
   "id": "e6d5324c-763b-4e16-917c-46fb5388c63f",
   "metadata": {},
   "outputs": [
    {
     "data": {
      "text/plain": [
       "array([3, 1, 0, 2, 3, 3, 3, 2, 2, 3, 3, 0, 1, 3, 2, 2, 2, 3, 1, 1, 2, 3,\n",
       "       0, 2, 0, 1, 0, 2, 0, 1, 0, 2, 2, 3, 1, 1, 1, 1, 2, 0, 3, 0, 3, 3,\n",
       "       1, 2, 1, 2, 2, 0, 0, 0, 1, 3, 2, 0, 3, 3, 1, 1, 3, 0, 0, 2, 3, 2,\n",
       "       0, 0, 0, 2, 3, 0, 3, 1, 3, 0, 1, 2, 1, 0, 3, 3, 0, 1, 3, 3, 0, 1,\n",
       "       0, 1, 1, 0, 1, 3, 3, 2, 3])"
      ]
     },
     "execution_count": 21,
     "metadata": {},
     "output_type": "execute_result"
    }
   ],
   "source": [
    "kmeans_farmers = KMeans(n_clusters=4, init='k-means++', random_state=42)\n",
    "y_predict_farmers = kmeans_farmers.fit_predict(farmer_features)\n",
    "y_predict_farmers"
   ]
  },
  {
   "cell_type": "code",
   "execution_count": 22,
   "id": "19013b4f-e904-4d5c-9291-703775ed65b3",
   "metadata": {},
   "outputs": [
    {
     "data": {
      "text/plain": [
       "array([3, 0, 1, 0, 1, 2, 4, 0, 2, 3, 2, 2, 1, 1, 2, 0, 0, 4, 3, 0, 2, 3,\n",
       "       0, 3, 3, 1, 2, 1, 3, 3, 3, 3, 3, 3, 1, 4, 2, 3, 0, 2, 4, 4, 4, 3,\n",
       "       2, 3, 1, 3, 4, 1, 3, 0, 3, 1, 0, 3, 1, 4, 3, 0, 2, 4, 1, 0, 0, 2,\n",
       "       1, 3, 4, 2, 2, 4, 4, 3, 1, 1, 4, 3, 3, 0, 0, 0])"
      ]
     },
     "execution_count": 22,
     "metadata": {},
     "output_type": "execute_result"
    }
   ],
   "source": [
    "kmeans_vendors = KMeans(n_clusters=5, init='k-means++', random_state=42)\n",
    "y_predict_vendors = kmeans_vendors.fit_predict(vendor_features)\n",
    "y_predict_vendors"
   ]
  },
  {
   "cell_type": "code",
   "execution_count": 23,
   "id": "61ff5ccd-d88b-44af-adc1-55d967c6091a",
   "metadata": {},
   "outputs": [
    {
     "data": {
      "image/png": "[encoded data removed]",
      "text/plain": [
       "<Figure size 800x600 with 1 Axes>"
      ]
     },
     "metadata": {},
     "output_type": "display_data"
    }
   ],
   "source": [
    "colors = ['green', 'red', 'blue', 'yellow', 'pink']\n",
    "\n",
    "plt.figure(figsize=(8, 6))\n",
    "\n",
    "for i in range(5):\n",
    "    plt.scatter(\n",
    "        farmer_features.values[y_predict_farmers == i, 0],\n",
    "        farmer_features.values[y_predict_farmers == i, 1],\n",
    "        s=100,\n",
    "        c=colors[i % len(colors)],\n",
    "        label=f'Cluster {i+1}'\n",
    "    )\n",
    "\n",
    "# Plot centroids\n",
    "plt.scatter(\n",
    "    kmeans_farmers.cluster_centers_[:, 0],\n",
    "    kmeans_farmers.cluster_centers_[:, 1],\n",
    "    s=300,\n",
    "    c='cyan',\n",
    "    label='Centroid'\n",
    ")\n",
    "\n",
    "plt.title(\"Clusters of Farmers\")\n",
    "plt.xlabel(\"Location\")\n",
    "plt.ylabel(\"Product\")\n",
    "plt.legend()\n",
    "plt.show()"
   ]
  },
  {
   "cell_type": "code",
   "execution_count": 24,
   "id": "fbb4397d-cef0-425b-b446-5b5784f6612b",
   "metadata": {},
   "outputs": [
    {
     "data": {
      "image/png": "[encoded data removed]",
      "text/plain": [
       "<Figure size 800x600 with 1 Axes>"
      ]
     },
     "metadata": {},
     "output_type": "display_data"
    }
   ],
   "source": [
    "colors = ['green', 'red', 'blue', 'yellow', 'pink']\n",
    "\n",
    "plt.figure(figsize=(8, 6))\n",
    "\n",
    "for i in range(5):\n",
    "    plt.scatter(\n",
    "        vendor_features.values[y_predict_vendors == i, 0],\n",
    "        vendor_features.values[y_predict_vendors == i, 1],\n",
    "        s=100,\n",
    "        c=colors[i % len(colors)],\n",
    "        label=f'Cluster {i+1}'\n",
    "    )\n",
    "\n",
    "# Plot centroids\n",
    "plt.scatter(\n",
    "    kmeans_vendors.cluster_centers_[:, 0],\n",
    "    kmeans_vendors.cluster_centers_[:, 1],\n",
    "    s=300,\n",
    "    c='cyan',\n",
    "    label='Centroid'\n",
    ")\n",
    "\n",
    "plt.title(\"Clusters of Vendors\")\n",
    "plt.xlabel(\"Location\")\n",
    "plt.ylabel(\"Product\")\n",
    "plt.legend()\n",
    "plt.show()\n"
   ]
  },
  {
   "cell_type": "code",
   "execution_count": 34,
   "id": "fbd31d4d-60df-4ab6-9d60-da1a25fdce39",
   "metadata": {},
   "outputs": [],
   "source": [
    "\n",
    "def predict_best_vendor(location, product):\n",
    "    # Clean input\n",
    "    location = location.strip()\n",
    "    product = product.strip()\n",
    "\n",
    "    # Ensure label encoders cover all data\n",
    "    all_locations = pd.concat([farmers_df[\"location\"], vendors_df[\"location\"]])\n",
    "    all_products = pd.concat([farmers_df[\"product\"], vendors_df[\"product\"]])\n",
    "\n",
    "    label_encoder_location.fit(all_locations)\n",
    "    label_encoder_product.fit(all_products)\n",
    "\n",
    "    try:\n",
    "        loc_encoded = label_encoder_location.transform([location])[0]\n",
    "        prod_encoded = label_encoder_product.transform([product])[0]\n",
    "    except ValueError:\n",
    "        return \"Invalid location or product: not found in training data.\"\n",
    "\n",
    "    # Create farmer input features (no scaling)\n",
    "    farmer_input = pd.DataFrame([[loc_encoded, prod_encoded]], columns=[\"location_encoded\", \"product_encoded\"])\n",
    "    farmer_cluster = kmeans_farmers.predict(farmer_input)[0]\n",
    "\n",
    "    # Filter matching vendors\n",
    "    matching_vendors = vendors_df[\n",
    "        (vendors_df[\"location_encoded\"] == loc_encoded) &\n",
    "        (vendors_df[\"product_encoded\"] == prod_encoded)\n",
    "    ]\n",
    "\n",
    "    if len(matching_vendors) == 0:\n",
    "        return \"No matching vendors found for this location and product.\"\n",
    "\n",
    "    # Sort vendors by reliability (desc), then price (asc)\n",
    "    top_vendors = matching_vendors.sort_values(\n",
    "        by=[\"reliability_score\", \"avg_price_quintal\"],\n",
    "        ascending=[False, True]\n",
    "    ).head(5)\n",
    "\n",
    "    # Return a list of top vendors\n",
    "    return top_vendors[[\n",
    "        \"vendor_id\", \"name\", \"location\", \"product\", \"reliability_score\", \"avg_price_quintal\"\n",
    "    ]]\n"
   ]
  },
  {
   "cell_type": "code",
   "execution_count": 35,
   "id": "cf7e1e3d-7489-41af-9efa-d9761a1becea",
   "metadata": {},
   "outputs": [
    {
     "name": "stdout",
     "output_type": "stream",
     "text": [
      "Top Vendors:\n",
      "vendor_id             name location product  reliability_score  avg_price_quintal\n",
      "    V7007 Krishna Tradersx  Haryana    Rice           0.631335           0.119227\n",
      "    V9443  Krishna Traders  Haryana    Rice           0.252884           1.241304\n",
      "    V4328      FarmDirectx  Haryana    Rice           0.017984          -0.220250\n",
      "    V3988      AgroSupplyx  Haryana    Rice           0.017984           0.273040\n"
     ]
    }
   ],
   "source": [
    "result = predict_best_vendor(\"Haryana\", \"Rice\")\n",
    "\n",
    "if isinstance(result, pd.DataFrame):\n",
    "    print(\"Top Vendors:\")\n",
    "    print(result.to_string(index=False))\n",
    "else:\n",
    "    print(result)\n"
   ]
  },
  {
   "cell_type": "code",
   "execution_count": 36,
   "id": "4a688833-01fb-438a-a831-ddb58ab5147d",
   "metadata": {},
   "outputs": [],
   "source": [
    "def predict_best_farmer(location, product):\n",
    "    # Clean input\n",
    "    location = location.strip()\n",
    "    product = product.strip()\n",
    "\n",
    "    # Ensure label encoders are consistent\n",
    "    all_locations = pd.concat([farmers_df[\"location\"], vendors_df[\"location\"]])\n",
    "    all_products = pd.concat([farmers_df[\"product\"], vendors_df[\"product\"]])\n",
    "    label_encoder_location.fit(all_locations)\n",
    "    label_encoder_product.fit(all_products)\n",
    "\n",
    "    try:\n",
    "        loc_encoded = label_encoder_location.transform([location])[0]\n",
    "        prod_encoded = label_encoder_product.transform([product])[0]\n",
    "    except ValueError:\n",
    "        return \"Invalid location or product: not found in training data.\"\n",
    "\n",
    "    # Farmer input for clustering\n",
    "    farmer_input = pd.DataFrame([[loc_encoded, prod_encoded]], columns=[\"location_encoded\", \"product_encoded\"])\n",
    "    farmer_cluster = kmeans_farmers.predict(farmer_input)[0]\n",
    "\n",
    "    # Predict clusters for all farmers (if not already added)\n",
    "    farmers_df[\"kmeans_cluster\"] = y_predict_farmers\n",
    "\n",
    "    # Find matching farmers in the same cluster\n",
    "    matching_farmers = farmers_df[\n",
    "        (farmers_df[\"kmeans_cluster\"] == farmer_cluster) &\n",
    "        (farmers_df[\"product_encoded\"] == prod_encoded) &\n",
    "        (farmers_df[\"location_encoded\"] == loc_encoded)\n",
    "    ]\n",
    "\n",
    "    if matching_farmers.empty:\n",
    "        return \"No suitable farmers found.\"\n",
    "\n",
    "    # Return top 5 (just arbitrarily taking first 5 matching)\n",
    "    return matching_farmers[[\"farmer_id\", \"name\", \"location\", \"product\"]].head(5)\n"
   ]
  },
  {
   "cell_type": "code",
   "execution_count": 37,
   "id": "6cbe8314-cb1f-4499-813c-58ee0740cfd5",
   "metadata": {},
   "outputs": [
    {
     "name": "stdout",
     "output_type": "stream",
     "text": [
      "Top 5 Suitable Farmers:\n",
      "farmer_id   name location product\n",
      "    F8035 Rajesh  Haryana    Rice\n",
      "    F8346  Ravix  Haryana    Rice\n",
      "    F8850 Manojx  Haryana    Rice\n"
     ]
    }
   ],
   "source": [
    "result = predict_best_farmer(\"Haryana\", \"Rice\")\n",
    "\n",
    "if isinstance(result, pd.DataFrame):\n",
    "    print(\"Top 5 Suitable Farmers:\")\n",
    "    print(result.to_string(index=False))\n",
    "else:\n",
    "    print(result)\n"
   ]
  }
 ],
 "metadata": {
  "kernelspec": {
   "display_name": "Python 3 (ipykernel)",
   "language": "python",
   "name": "python3"
  },
  "language_info": {
   "codemirror_mode": {
    "name": "ipython",
    "version": 3
   },
   "file_extension": ".py",
   "mimetype": "text/x-python",
   "name": "python",
   "nbconvert_exporter": "python",
   "pygments_lexer": "ipython3",
   "version": "3.11.7"
  }
 },
 "nbformat": 4,
 "nbformat_minor": 5
}
